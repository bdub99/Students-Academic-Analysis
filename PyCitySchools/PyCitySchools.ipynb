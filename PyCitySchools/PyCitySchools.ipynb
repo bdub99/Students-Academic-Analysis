{
 "cells": [
  {
   "cell_type": "code",
   "execution_count": 1,
   "metadata": {},
   "outputs": [],
   "source": [
    "import pandas as pd"
   ]
  },
  {
   "cell_type": "code",
   "execution_count": 2,
   "metadata": {},
   "outputs": [],
   "source": [
    "schools_complete = \"Resources/schools_complete.csv\"\n",
    "students_complete = \"Resources/students_complete.csv\"\n",
    "\n",
    "schools_df = pd.read_csv(schools_complete)\n",
    "students_df = pd.read_csv(students_complete)\n",
    "\n",
    "total_school_df = pd.merge(schools_df, students_df, how=\"left\", on=[\"school_name\", \"school_name\"])\n",
    "\n"
   ]
  },
  {
   "cell_type": "code",
   "execution_count": null,
   "metadata": {},
   "outputs": [],
   "source": [
    "# District Summary"
   ]
  },
  {
   "cell_type": "code",
   "execution_count": 4,
   "metadata": {},
   "outputs": [
    {
     "ename": "ValueError",
     "evalue": "Buffer has wrong number of dimensions (expected 1, got 2)",
     "output_type": "error",
     "traceback": [
      "\u001b[0;31m---------------------------------------------------------------------------\u001b[0m",
      "\u001b[0;31mValueError\u001b[0m                                Traceback (most recent call last)",
      "\u001b[1;32m/Users/benjaminwynne/Pandas-Challenge/pandas-challenge/PyCitySchools/PyCitySchools.ipynb Cell 4\u001b[0m in \u001b[0;36m<cell line: 20>\u001b[0;34m()\u001b[0m\n\u001b[1;32m     <a href='vscode-notebook-cell:/Users/benjaminwynne/Pandas-Challenge/pandas-challenge/PyCitySchools/PyCitySchools.ipynb#ch0000003?line=17'>18</a>\u001b[0m overall_passing\n\u001b[1;32m     <a href='vscode-notebook-cell:/Users/benjaminwynne/Pandas-Challenge/pandas-challenge/PyCitySchools/PyCitySchools.ipynb#ch0000003?line=18'>19</a>\u001b[0m \u001b[39mlen\u001b[39m(overall_passing)\u001b[39m/\u001b[39m(total_students)\n\u001b[0;32m---> <a href='vscode-notebook-cell:/Users/benjaminwynne/Pandas-Challenge/pandas-challenge/PyCitySchools/PyCitySchools.ipynb#ch0000003?line=19'>20</a>\u001b[0m summary_df \u001b[39m=\u001b[39m pd\u001b[39m.\u001b[39;49mDataFrame({\u001b[39m\"\u001b[39;49m\u001b[39mTotal Schools\u001b[39;49m\u001b[39m\"\u001b[39;49m: total_schools, \u001b[39m\"\u001b[39;49m\u001b[39mTotal Students\u001b[39;49m\u001b[39m\"\u001b[39;49m: total_students, \u001b[39m\"\u001b[39;49m\u001b[39mTotal Budget\u001b[39;49m\u001b[39m\"\u001b[39;49m: total_budget, \n\u001b[1;32m     <a href='vscode-notebook-cell:/Users/benjaminwynne/Pandas-Challenge/pandas-challenge/PyCitySchools/PyCitySchools.ipynb#ch0000003?line=20'>21</a>\u001b[0m                                         \u001b[39m\"\u001b[39;49m\u001b[39mAverage Math Score\u001b[39;49m\u001b[39m\"\u001b[39;49m: average_math, \u001b[39m\"\u001b[39;49m\u001b[39mAverage Reading Score\u001b[39;49m\u001b[39m\"\u001b[39;49m: average_reading, \u001b[39m\"\u001b[39;49m\u001b[39m%\u001b[39;49m\u001b[39m Passing Math\u001b[39;49m\u001b[39m\"\u001b[39;49m: passing_math,\n\u001b[1;32m     <a href='vscode-notebook-cell:/Users/benjaminwynne/Pandas-Challenge/pandas-challenge/PyCitySchools/PyCitySchools.ipynb#ch0000003?line=21'>22</a>\u001b[0m                                                 \u001b[39m\"\u001b[39;49m\u001b[39m%\u001b[39;49m\u001b[39m Passing Reading\u001b[39;49m\u001b[39m\"\u001b[39;49m: passing_reading,\u001b[39m\"\u001b[39;49m\u001b[39m%\u001b[39;49m\u001b[39m Overall Passing\u001b[39;49m\u001b[39m\"\u001b[39;49m: overall_passing}, index\u001b[39m=\u001b[39;49m[\u001b[39m0\u001b[39;49m])\n\u001b[1;32m     <a href='vscode-notebook-cell:/Users/benjaminwynne/Pandas-Challenge/pandas-challenge/PyCitySchools/PyCitySchools.ipynb#ch0000003?line=22'>23</a>\u001b[0m summary_df\n",
      "File \u001b[0;32m~/opt/anaconda3/lib/python3.9/site-packages/pandas/core/frame.py:636\u001b[0m, in \u001b[0;36mDataFrame.__init__\u001b[0;34m(self, data, index, columns, dtype, copy)\u001b[0m\n\u001b[1;32m    630\u001b[0m     mgr \u001b[39m=\u001b[39m \u001b[39mself\u001b[39m\u001b[39m.\u001b[39m_init_mgr(\n\u001b[1;32m    631\u001b[0m         data, axes\u001b[39m=\u001b[39m{\u001b[39m\"\u001b[39m\u001b[39mindex\u001b[39m\u001b[39m\"\u001b[39m: index, \u001b[39m\"\u001b[39m\u001b[39mcolumns\u001b[39m\u001b[39m\"\u001b[39m: columns}, dtype\u001b[39m=\u001b[39mdtype, copy\u001b[39m=\u001b[39mcopy\n\u001b[1;32m    632\u001b[0m     )\n\u001b[1;32m    634\u001b[0m \u001b[39melif\u001b[39;00m \u001b[39misinstance\u001b[39m(data, \u001b[39mdict\u001b[39m):\n\u001b[1;32m    635\u001b[0m     \u001b[39m# GH#38939 de facto copy defaults to False only in non-dict cases\u001b[39;00m\n\u001b[0;32m--> 636\u001b[0m     mgr \u001b[39m=\u001b[39m dict_to_mgr(data, index, columns, dtype\u001b[39m=\u001b[39;49mdtype, copy\u001b[39m=\u001b[39;49mcopy, typ\u001b[39m=\u001b[39;49mmanager)\n\u001b[1;32m    637\u001b[0m \u001b[39melif\u001b[39;00m \u001b[39misinstance\u001b[39m(data, ma\u001b[39m.\u001b[39mMaskedArray):\n\u001b[1;32m    638\u001b[0m     \u001b[39mimport\u001b[39;00m \u001b[39mnumpy\u001b[39;00m\u001b[39m.\u001b[39;00m\u001b[39mma\u001b[39;00m\u001b[39m.\u001b[39;00m\u001b[39mmrecords\u001b[39;00m \u001b[39mas\u001b[39;00m \u001b[39mmrecords\u001b[39;00m\n",
      "File \u001b[0;32m~/opt/anaconda3/lib/python3.9/site-packages/pandas/core/internals/construction.py:502\u001b[0m, in \u001b[0;36mdict_to_mgr\u001b[0;34m(data, index, columns, dtype, typ, copy)\u001b[0m\n\u001b[1;32m    494\u001b[0m     arrays \u001b[39m=\u001b[39m [\n\u001b[1;32m    495\u001b[0m         x\n\u001b[1;32m    496\u001b[0m         \u001b[39mif\u001b[39;00m \u001b[39mnot\u001b[39;00m \u001b[39mhasattr\u001b[39m(x, \u001b[39m\"\u001b[39m\u001b[39mdtype\u001b[39m\u001b[39m\"\u001b[39m) \u001b[39mor\u001b[39;00m \u001b[39mnot\u001b[39;00m \u001b[39misinstance\u001b[39m(x\u001b[39m.\u001b[39mdtype, ExtensionDtype)\n\u001b[1;32m    497\u001b[0m         \u001b[39melse\u001b[39;00m x\u001b[39m.\u001b[39mcopy()\n\u001b[1;32m    498\u001b[0m         \u001b[39mfor\u001b[39;00m x \u001b[39min\u001b[39;00m arrays\n\u001b[1;32m    499\u001b[0m     ]\n\u001b[1;32m    500\u001b[0m     \u001b[39m# TODO: can we get rid of the dt64tz special case above?\u001b[39;00m\n\u001b[0;32m--> 502\u001b[0m \u001b[39mreturn\u001b[39;00m arrays_to_mgr(arrays, columns, index, dtype\u001b[39m=\u001b[39;49mdtype, typ\u001b[39m=\u001b[39;49mtyp, consolidate\u001b[39m=\u001b[39;49mcopy)\n",
      "File \u001b[0;32m~/opt/anaconda3/lib/python3.9/site-packages/pandas/core/internals/construction.py:125\u001b[0m, in \u001b[0;36marrays_to_mgr\u001b[0;34m(arrays, columns, index, dtype, verify_integrity, typ, consolidate)\u001b[0m\n\u001b[1;32m    122\u001b[0m         index \u001b[39m=\u001b[39m ensure_index(index)\n\u001b[1;32m    124\u001b[0m     \u001b[39m# don't force copy because getting jammed in an ndarray anyway\u001b[39;00m\n\u001b[0;32m--> 125\u001b[0m     arrays \u001b[39m=\u001b[39m _homogenize(arrays, index, dtype)\n\u001b[1;32m    126\u001b[0m     \u001b[39m# _homogenize ensures\u001b[39;00m\n\u001b[1;32m    127\u001b[0m     \u001b[39m#  - all(len(x) == len(index) for x in arrays)\u001b[39;00m\n\u001b[1;32m    128\u001b[0m     \u001b[39m#  - all(x.ndim == 1 for x in arrays)\u001b[39;00m\n\u001b[0;32m   (...)\u001b[0m\n\u001b[1;32m    131\u001b[0m \n\u001b[1;32m    132\u001b[0m \u001b[39melse\u001b[39;00m:\n\u001b[1;32m    133\u001b[0m     index \u001b[39m=\u001b[39m ensure_index(index)\n",
      "File \u001b[0;32m~/opt/anaconda3/lib/python3.9/site-packages/pandas/core/internals/construction.py:625\u001b[0m, in \u001b[0;36m_homogenize\u001b[0;34m(data, index, dtype)\u001b[0m\n\u001b[1;32m    622\u001b[0m             val \u001b[39m=\u001b[39m \u001b[39mdict\u001b[39m(val)\n\u001b[1;32m    623\u001b[0m         val \u001b[39m=\u001b[39m lib\u001b[39m.\u001b[39mfast_multiget(val, oindex\u001b[39m.\u001b[39m_values, default\u001b[39m=\u001b[39mnp\u001b[39m.\u001b[39mnan)\n\u001b[0;32m--> 625\u001b[0m     val \u001b[39m=\u001b[39m sanitize_array(\n\u001b[1;32m    626\u001b[0m         val, index, dtype\u001b[39m=\u001b[39;49mdtype, copy\u001b[39m=\u001b[39;49m\u001b[39mFalse\u001b[39;49;00m, raise_cast_failure\u001b[39m=\u001b[39;49m\u001b[39mFalse\u001b[39;49;00m\n\u001b[1;32m    627\u001b[0m     )\n\u001b[1;32m    628\u001b[0m     com\u001b[39m.\u001b[39mrequire_length_match(val, index)\n\u001b[1;32m    630\u001b[0m homogenized\u001b[39m.\u001b[39mappend(val)\n",
      "File \u001b[0;32m~/opt/anaconda3/lib/python3.9/site-packages/pandas/core/construction.py:593\u001b[0m, in \u001b[0;36msanitize_array\u001b[0;34m(data, index, dtype, copy, raise_cast_failure, allow_2d)\u001b[0m\n\u001b[1;32m    591\u001b[0m     subarr \u001b[39m=\u001b[39m _try_cast(data, dtype, copy, raise_cast_failure)\n\u001b[1;32m    592\u001b[0m \u001b[39melse\u001b[39;00m:\n\u001b[0;32m--> 593\u001b[0m     subarr \u001b[39m=\u001b[39m maybe_convert_platform(data)\n\u001b[1;32m    594\u001b[0m     \u001b[39mif\u001b[39;00m subarr\u001b[39m.\u001b[39mdtype \u001b[39m==\u001b[39m \u001b[39mobject\u001b[39m:\n\u001b[1;32m    595\u001b[0m         subarr \u001b[39m=\u001b[39m cast(np\u001b[39m.\u001b[39mndarray, subarr)\n",
      "File \u001b[0;32m~/opt/anaconda3/lib/python3.9/site-packages/pandas/core/dtypes/cast.py:130\u001b[0m, in \u001b[0;36mmaybe_convert_platform\u001b[0;34m(values)\u001b[0m\n\u001b[1;32m    128\u001b[0m \u001b[39mif\u001b[39;00m arr\u001b[39m.\u001b[39mdtype \u001b[39m==\u001b[39m _dtype_obj:\n\u001b[1;32m    129\u001b[0m     arr \u001b[39m=\u001b[39m cast(np\u001b[39m.\u001b[39mndarray, arr)\n\u001b[0;32m--> 130\u001b[0m     arr \u001b[39m=\u001b[39m lib\u001b[39m.\u001b[39;49mmaybe_convert_objects(arr)\n\u001b[1;32m    132\u001b[0m \u001b[39mreturn\u001b[39;00m arr\n",
      "File \u001b[0;32m~/opt/anaconda3/lib/python3.9/site-packages/pandas/_libs/lib.pyx:2395\u001b[0m, in \u001b[0;36mpandas._libs.lib.maybe_convert_objects\u001b[0;34m()\u001b[0m\n",
      "\u001b[0;31mValueError\u001b[0m: Buffer has wrong number of dimensions (expected 1, got 2)"
     ]
    }
   ],
   "source": [
    "total_schools = len(total_school_df[\"school_name\"].unique())\n",
    "total_schools\n",
    "total_students = len(total_school_df[\"Student ID\"].unique())\n",
    "total_students\n",
    "total_budget = total_school_df[\"budget\"].unique().sum()\n",
    "total_budget\n",
    "average_math = total_school_df[\"math_score\"].mean()\n",
    "average_math\n",
    "average_reading = total_school_df[\"reading_score\"].mean()\n",
    "average_reading\n",
    "passing_math = total_school_df[(total_school_df[\"math_score\"] >= 70)]\n",
    "passing_math\n",
    "len(passing_math)/(total_students)\n",
    "passing_reading = total_school_df[(total_school_df[\"reading_score\"] >= 70)]\n",
    "passing_reading\n",
    "len(passing_reading)/(total_students)\n",
    "overall_passing = total_school_df[(total_school_df[\"math_score\"]+total_school_df[\"reading_score\"] >= 140)]\n",
    "overall_passing\n",
    "len(overall_passing)/(total_students)\n",
    "summary_df = pd.DataFrame({\"Total Schools\": total_schools, \"Total Students\": total_students, \"Total Budget\": total_budget, \n",
    "                                        \"Average Math Score\": average_math, \"Average Reading Score\": average_reading, \"% Passing Math\": passing_math,\n",
    "                                                \"% Passing Reading\": passing_reading,\"% Overall Passing\": overall_passing}, index=[0])\n",
    "summary_df"
   ]
  },
  {
   "cell_type": "code",
   "execution_count": null,
   "metadata": {},
   "outputs": [],
   "source": []
  }
 ],
 "metadata": {
  "kernelspec": {
   "display_name": "Python 3.9.12 ('base')",
   "language": "python",
   "name": "python3"
  },
  "language_info": {
   "codemirror_mode": {
    "name": "ipython",
    "version": 3
   },
   "file_extension": ".py",
   "mimetype": "text/x-python",
   "name": "python",
   "nbconvert_exporter": "python",
   "pygments_lexer": "ipython3",
   "version": "3.9.12"
  },
  "orig_nbformat": 4,
  "vscode": {
   "interpreter": {
    "hash": "57eaf34808bd0ce5b93ffb53549492e656fff728a7c40478c90cbbf9a8cdb9d1"
   }
  }
 },
 "nbformat": 4,
 "nbformat_minor": 2
}
