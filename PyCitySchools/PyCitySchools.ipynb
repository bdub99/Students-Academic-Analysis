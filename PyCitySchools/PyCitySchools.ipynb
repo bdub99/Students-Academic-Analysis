{
 "cells": [
  {
   "cell_type": "code",
   "execution_count": 1,
   "metadata": {},
   "outputs": [],
   "source": [
    "import pandas as pd"
   ]
  },
  {
   "cell_type": "code",
   "execution_count": 2,
   "metadata": {},
   "outputs": [],
   "source": [
    "schools_complete = \"Resources/schools_complete.csv\"\n",
    "students_complete = \"Resources/students_complete.csv\"\n",
    "\n",
    "schools_df = pd.read_csv(schools_complete)\n",
    "students_df = pd.read_csv(students_complete)\n",
    "\n",
    "total_school_df = pd.merge(schools_df, students_df, how=\"left\", on=[\"school_name\", \"school_name\"])\n",
    "\n"
   ]
  },
  {
   "cell_type": "code",
   "execution_count": null,
   "metadata": {},
   "outputs": [],
   "source": [
    "# District Summary"
   ]
  },
  {
   "cell_type": "code",
   "execution_count": 3,
   "metadata": {},
   "outputs": [
    {
     "data": {
      "text/html": [
       "<div>\n",
       "<style scoped>\n",
       "    .dataframe tbody tr th:only-of-type {\n",
       "        vertical-align: middle;\n",
       "    }\n",
       "\n",
       "    .dataframe tbody tr th {\n",
       "        vertical-align: top;\n",
       "    }\n",
       "\n",
       "    .dataframe thead th {\n",
       "        text-align: right;\n",
       "    }\n",
       "</style>\n",
       "<table border=\"1\" class=\"dataframe\">\n",
       "  <thead>\n",
       "    <tr style=\"text-align: right;\">\n",
       "      <th></th>\n",
       "      <th>Total Schools</th>\n",
       "      <th>Total Students</th>\n",
       "      <th>Total Budget</th>\n",
       "      <th>Average Math Score</th>\n",
       "      <th>Average Reading Score</th>\n",
       "      <th>% Passing Math</th>\n",
       "      <th>% Passing Reading</th>\n",
       "      <th>% Overall Passing</th>\n",
       "    </tr>\n",
       "  </thead>\n",
       "  <tbody>\n",
       "    <tr>\n",
       "      <th>0</th>\n",
       "      <td>15</td>\n",
       "      <td>39170</td>\n",
       "      <td>24649428</td>\n",
       "      <td>78.985371</td>\n",
       "      <td>81.87784</td>\n",
       "      <td>74.980853</td>\n",
       "      <td>85.805463</td>\n",
       "      <td>89.387286</td>\n",
       "    </tr>\n",
       "  </tbody>\n",
       "</table>\n",
       "</div>"
      ],
      "text/plain": [
       "   Total Schools  Total Students  Total Budget  Average Math Score  \\\n",
       "0             15           39170      24649428           78.985371   \n",
       "\n",
       "   Average Reading Score  % Passing Math  % Passing Reading  % Overall Passing  \n",
       "0               81.87784       74.980853          85.805463          89.387286  "
      ]
     },
     "execution_count": 3,
     "metadata": {},
     "output_type": "execute_result"
    }
   ],
   "source": [
    "total_schools = len(total_school_df[\"school_name\"].unique())\n",
    "total_schools\n",
    "total_students = len(total_school_df[\"Student ID\"].unique())\n",
    "total_students\n",
    "total_budget = total_school_df[\"budget\"].unique().sum()\n",
    "total_budget\n",
    "average_math = total_school_df[\"math_score\"].mean()\n",
    "average_math\n",
    "average_reading = total_school_df[\"reading_score\"].mean()\n",
    "average_reading\n",
    "passing_math = total_school_df[(total_school_df[\"math_score\"] >= 70)]\n",
    "passing_math\n",
    "Pm = len(passing_math)/(total_students) * 100\n",
    "passing_reading = total_school_df[(total_school_df[\"reading_score\"] >= 70)]\n",
    "passing_reading\n",
    "Pr = len(passing_reading)/(total_students) * 100\n",
    "overall_passing = total_school_df[(total_school_df[\"math_score\"]+total_school_df[\"reading_score\"] >= 140)]\n",
    "overall_passing\n",
    "Op = len(overall_passing)/(total_students) * 100\n",
    "district_summary_df = pd.DataFrame({\"Total Schools\": [total_schools], \"Total Students\": [total_students], \"Total Budget\": [total_budget], \n",
    "                                        \"Average Math Score\": [average_math], \"Average Reading Score\": [average_reading], \"% Passing Math\": [Pm],\n",
    "                                                \"% Passing Reading\": [Pr],\"% Overall Passing\": [Op]})\n",
    "district_summary_df"
   ]
  },
  {
   "cell_type": "code",
   "execution_count": null,
   "metadata": {},
   "outputs": [],
   "source": [
    "# School Summary"
   ]
  },
  {
   "cell_type": "code",
   "execution_count": 16,
   "metadata": {},
   "outputs": [
    {
     "ename": "TypeError",
     "evalue": "'>=' not supported between instances of 'SeriesGroupBy' and 'int'",
     "output_type": "error",
     "traceback": [
      "\u001b[0;31m---------------------------------------------------------------------------\u001b[0m",
      "\u001b[0;31mTypeError\u001b[0m                                 Traceback (most recent call last)",
      "\u001b[1;32m/Users/benjaminwynne/Pandas-Challenge/pandas-challenge/PyCitySchools/PyCitySchools.ipynb Cell 6\u001b[0m in \u001b[0;36m<cell line: 13>\u001b[0;34m()\u001b[0m\n\u001b[1;32m     <a href='vscode-notebook-cell:/Users/benjaminwynne/Pandas-Challenge/pandas-challenge/PyCitySchools/PyCitySchools.ipynb#ch0000005?line=10'>11</a>\u001b[0m school_avg_reading \u001b[39m=\u001b[39m school_name[\u001b[39m\"\u001b[39m\u001b[39mreading_score\u001b[39m\u001b[39m\"\u001b[39m]\u001b[39m.\u001b[39mmean()\n\u001b[1;32m     <a href='vscode-notebook-cell:/Users/benjaminwynne/Pandas-Challenge/pandas-challenge/PyCitySchools/PyCitySchools.ipynb#ch0000005?line=11'>12</a>\u001b[0m school_avg_reading\n\u001b[0;32m---> <a href='vscode-notebook-cell:/Users/benjaminwynne/Pandas-Challenge/pandas-challenge/PyCitySchools/PyCitySchools.ipynb#ch0000005?line=12'>13</a>\u001b[0m school_passing_math \u001b[39m=\u001b[39m school_name[(school_name[\u001b[39m\"\u001b[39;49m\u001b[39mmath_score\u001b[39;49m\u001b[39m\"\u001b[39;49m] \u001b[39m>\u001b[39;49m\u001b[39m=\u001b[39;49m \u001b[39m70\u001b[39;49m)]\n\u001b[1;32m     <a href='vscode-notebook-cell:/Users/benjaminwynne/Pandas-Challenge/pandas-challenge/PyCitySchools/PyCitySchools.ipynb#ch0000005?line=13'>14</a>\u001b[0m school_passing_math\n\u001b[1;32m     <a href='vscode-notebook-cell:/Users/benjaminwynne/Pandas-Challenge/pandas-challenge/PyCitySchools/PyCitySchools.ipynb#ch0000005?line=14'>15</a>\u001b[0m spm \u001b[39m=\u001b[39m \u001b[39mlen\u001b[39m(school_passing_math)\u001b[39m/\u001b[39m(school_students) \u001b[39m*\u001b[39m \u001b[39m100\u001b[39m\n",
      "\u001b[0;31mTypeError\u001b[0m: '>=' not supported between instances of 'SeriesGroupBy' and 'int'"
     ]
    }
   ],
   "source": [
    "school_name = total_school_df.groupby([\"school_name\", \"type\"])\n",
    "\n",
    "school_students = school_name[\"size\"].value_counts()\n",
    "school_students\n",
    "school_budget = school_name[\"budget\"].value_counts()\n",
    "school_budget\n",
    "psb = (school_students)/(school_budget)\n",
    "psb\n",
    "school_avg_math = school_name[\"math_score\"].mean()\n",
    "school_avg_math\n",
    "school_avg_reading = school_name[\"reading_score\"].mean()\n",
    "school_avg_reading\n",
    "school_passing_math = school_name[(school_name[\"math_score\"] >= 70)]\n",
    "school_passing_math\n",
    "spm = len(school_passing_math)/(school_students) * 100\n",
    "school_passing_reading = school_name[(school_name[\"reading_score\"] >= 70)]\n",
    "school_passing_reading\n",
    "spr = len(school_passing_reading)/(school_students) * 100\n",
    "school_overall_passing = school_name[(school_name[\"math_score\"]+school_name[\"reading_score\"] >= 140)]\n",
    "school_overall_passing\n",
    "sop = len(school_overall_passing)/(school_students) * 100\n",
    "school_summary_df = pd.DataFrame({\"Total School Budget\": [school_budget], \"Per Student Budget\": [psb], \n",
    "                                        \"Average Math Score\": [school_avg_math], \"Average Reading Score\": [school_avg_reading], \"% Passing Math\": [spm],\n",
    "                                                \"% Passing Reading\": [spr],\"% Overall Passing\": [sop]})\n",
    "school_summary_df\n",
    "\n",
    "\n",
    "\n",
    "\n"
   ]
  },
  {
   "cell_type": "code",
   "execution_count": null,
   "metadata": {},
   "outputs": [],
   "source": [
    "# Top Performing School (by % overall passing )"
   ]
  },
  {
   "cell_type": "code",
   "execution_count": 29,
   "metadata": {},
   "outputs": [
    {
     "ename": "NameError",
     "evalue": "name 'school_summary_df' is not defined",
     "output_type": "error",
     "traceback": [
      "\u001b[0;31m---------------------------------------------------------------------------\u001b[0m",
      "\u001b[0;31mNameError\u001b[0m                                 Traceback (most recent call last)",
      "\u001b[1;32m/Users/benjaminwynne/Pandas-Challenge/pandas-challenge/PyCitySchools/PyCitySchools.ipynb Cell 8\u001b[0m in \u001b[0;36m<cell line: 1>\u001b[0;34m()\u001b[0m\n\u001b[0;32m----> <a href='vscode-notebook-cell:/Users/benjaminwynne/Pandas-Challenge/pandas-challenge/PyCitySchools/PyCitySchools.ipynb#ch0000008?line=0'>1</a>\u001b[0m top_perf_school_df \u001b[39m=\u001b[39m school_summary_df\u001b[39m.\u001b[39msort_values(\u001b[39m\"\u001b[39m\u001b[39m%\u001b[39m\u001b[39m Overall Passing\u001b[39m\u001b[39m\"\u001b[39m, ascending\u001b[39m=\u001b[39m\u001b[39mFalse\u001b[39;00m)\n\u001b[1;32m      <a href='vscode-notebook-cell:/Users/benjaminwynne/Pandas-Challenge/pandas-challenge/PyCitySchools/PyCitySchools.ipynb#ch0000008?line=1'>2</a>\u001b[0m top_perf_school_df\n",
      "\u001b[0;31mNameError\u001b[0m: name 'school_summary_df' is not defined"
     ]
    }
   ],
   "source": [
    "top_perf_school_df = school_summary_df.sort_values(\"% Overall Passing\", ascending=False)\n",
    "top_perf_school_df"
   ]
  },
  {
   "cell_type": "code",
   "execution_count": null,
   "metadata": {},
   "outputs": [],
   "source": [
    "# Bottom Performing School (by % overall passing)"
   ]
  },
  {
   "cell_type": "code",
   "execution_count": null,
   "metadata": {},
   "outputs": [],
   "source": [
    "bot_perf_school_df = school_summary_df.sort_values(\"% Overall Passing\", ascending=True)\n",
    "bot_perf_school_df"
   ]
  },
  {
   "cell_type": "code",
   "execution_count": null,
   "metadata": {},
   "outputs": [],
   "source": [
    "# Math Scores by Grade"
   ]
  },
  {
   "cell_type": "code",
   "execution_count": 30,
   "metadata": {},
   "outputs": [
    {
     "ename": "AttributeError",
     "evalue": "'DataFrameGroupBy' object has no attribute 'loc'",
     "output_type": "error",
     "traceback": [
      "\u001b[0;31m---------------------------------------------------------------------------\u001b[0m",
      "\u001b[0;31mAttributeError\u001b[0m                            Traceback (most recent call last)",
      "\u001b[1;32m/Users/benjaminwynne/Pandas-Challenge/pandas-challenge/PyCitySchools/PyCitySchools.ipynb Cell 12\u001b[0m in \u001b[0;36m<cell line: 3>\u001b[0;34m()\u001b[0m\n\u001b[1;32m      <a href='vscode-notebook-cell:/Users/benjaminwynne/Pandas-Challenge/pandas-challenge/PyCitySchools/PyCitySchools.ipynb#ch0000014?line=0'>1</a>\u001b[0m math_scores \u001b[39m=\u001b[39m total_school_df\u001b[39m.\u001b[39mgroupby([\u001b[39m\"\u001b[39m\u001b[39mschool_name\u001b[39m\u001b[39m\"\u001b[39m, \u001b[39m\"\u001b[39m\u001b[39mgrade\u001b[39m\u001b[39m\"\u001b[39m, \u001b[39m\"\u001b[39m\u001b[39mmath_score\u001b[39m\u001b[39m\"\u001b[39m])\n\u001b[0;32m----> <a href='vscode-notebook-cell:/Users/benjaminwynne/Pandas-Challenge/pandas-challenge/PyCitySchools/PyCitySchools.ipynb#ch0000014?line=2'>3</a>\u001b[0m nineth \u001b[39m=\u001b[39m math_scores\u001b[39m.\u001b[39;49mloc[math_scores[\u001b[39m\"\u001b[39m\u001b[39m9th\u001b[39m\u001b[39m\"\u001b[39m] \u001b[39m>\u001b[39m\u001b[39m=\u001b[39m \u001b[39m70\u001b[39m, [\u001b[39m\"\u001b[39m\u001b[39mmath_score\u001b[39m\u001b[39m\"\u001b[39m]]\n\u001b[1;32m      <a href='vscode-notebook-cell:/Users/benjaminwynne/Pandas-Challenge/pandas-challenge/PyCitySchools/PyCitySchools.ipynb#ch0000014?line=3'>4</a>\u001b[0m nineth\n\u001b[1;32m      <a href='vscode-notebook-cell:/Users/benjaminwynne/Pandas-Challenge/pandas-challenge/PyCitySchools/PyCitySchools.ipynb#ch0000014?line=4'>5</a>\u001b[0m tenth \u001b[39m=\u001b[39m math_scores\u001b[39m.\u001b[39mloc[math_scores[\u001b[39m\"\u001b[39m\u001b[39m10th\u001b[39m\u001b[39m\"\u001b[39m] \u001b[39m>\u001b[39m\u001b[39m=\u001b[39m \u001b[39m70\u001b[39m, [\u001b[39m\"\u001b[39m\u001b[39mmath_score\u001b[39m\u001b[39m\"\u001b[39m]]\n",
      "File \u001b[0;32m~/opt/anaconda3/lib/python3.9/site-packages/pandas/core/groupby/groupby.py:904\u001b[0m, in \u001b[0;36mGroupBy.__getattr__\u001b[0;34m(self, attr)\u001b[0m\n\u001b[1;32m    901\u001b[0m \u001b[39mif\u001b[39;00m attr \u001b[39min\u001b[39;00m \u001b[39mself\u001b[39m\u001b[39m.\u001b[39mobj:\n\u001b[1;32m    902\u001b[0m     \u001b[39mreturn\u001b[39;00m \u001b[39mself\u001b[39m[attr]\n\u001b[0;32m--> 904\u001b[0m \u001b[39mraise\u001b[39;00m \u001b[39mAttributeError\u001b[39;00m(\n\u001b[1;32m    905\u001b[0m     \u001b[39mf\u001b[39m\u001b[39m\"\u001b[39m\u001b[39m'\u001b[39m\u001b[39m{\u001b[39;00m\u001b[39mtype\u001b[39m(\u001b[39mself\u001b[39m)\u001b[39m.\u001b[39m\u001b[39m__name__\u001b[39m\u001b[39m}\u001b[39;00m\u001b[39m'\u001b[39m\u001b[39m object has no attribute \u001b[39m\u001b[39m'\u001b[39m\u001b[39m{\u001b[39;00mattr\u001b[39m}\u001b[39;00m\u001b[39m'\u001b[39m\u001b[39m\"\u001b[39m\n\u001b[1;32m    906\u001b[0m )\n",
      "\u001b[0;31mAttributeError\u001b[0m: 'DataFrameGroupBy' object has no attribute 'loc'"
     ]
    }
   ],
   "source": [
    "math_scores = total_school_df.groupby([\"school_name\", \"grade\", \"math_score\"])\n",
    "\n",
    "nineth = math_scores.loc[math_scores[\"9th\"] >= 70, [\"math_score\"]]\n",
    "nineth\n",
    "tenth = math_scores.loc[math_scores[\"10th\"] >= 70, [\"math_score\"]]\n",
    "tenth\n",
    "eleventh = math_scores.loc[math_scores[\"11th\"] >= 70, [\"math_score\"]]\n",
    "eleventh\n",
    "twelfth = math_scores.loc[math_scores[\"9th\"] >= 70, [\"math_score\"]]\n",
    "twelfth \n",
    "\n",
    "\n"
   ]
  },
  {
   "cell_type": "code",
   "execution_count": null,
   "metadata": {},
   "outputs": [],
   "source": [
    "# Reading Scores by Grade"
   ]
  },
  {
   "cell_type": "code",
   "execution_count": 28,
   "metadata": {},
   "outputs": [
    {
     "ename": "AttributeError",
     "evalue": "'DataFrameGroupBy' object has no attribute 'loc'",
     "output_type": "error",
     "traceback": [
      "\u001b[0;31m---------------------------------------------------------------------------\u001b[0m",
      "\u001b[0;31mAttributeError\u001b[0m                            Traceback (most recent call last)",
      "\u001b[1;32m/Users/benjaminwynne/Pandas-Challenge/pandas-challenge/PyCitySchools/PyCitySchools.ipynb Cell 16\u001b[0m in \u001b[0;36m<cell line: 3>\u001b[0;34m()\u001b[0m\n\u001b[1;32m      <a href='vscode-notebook-cell:/Users/benjaminwynne/Pandas-Challenge/pandas-challenge/PyCitySchools/PyCitySchools.ipynb#ch0000016?line=0'>1</a>\u001b[0m reading_scores_df \u001b[39m=\u001b[39m total_school_df\u001b[39m.\u001b[39mgroupby([\u001b[39m\"\u001b[39m\u001b[39mschool_name\u001b[39m\u001b[39m\"\u001b[39m, \u001b[39m\"\u001b[39m\u001b[39mgrade\u001b[39m\u001b[39m\"\u001b[39m])\n\u001b[0;32m----> <a href='vscode-notebook-cell:/Users/benjaminwynne/Pandas-Challenge/pandas-challenge/PyCitySchools/PyCitySchools.ipynb#ch0000016?line=2'>3</a>\u001b[0m ninethr \u001b[39m=\u001b[39m reading_scores_df\u001b[39m.\u001b[39;49mloc[reading_scores_df[\u001b[39m\"\u001b[39m\u001b[39m9th\u001b[39m\u001b[39m\"\u001b[39m] \u001b[39m>\u001b[39m\u001b[39m=\u001b[39m \u001b[39m70\u001b[39m, [\u001b[39m\"\u001b[39m\u001b[39mreading_score\u001b[39m\u001b[39m\"\u001b[39m]]\n\u001b[1;32m      <a href='vscode-notebook-cell:/Users/benjaminwynne/Pandas-Challenge/pandas-challenge/PyCitySchools/PyCitySchools.ipynb#ch0000016?line=3'>4</a>\u001b[0m ninethr\n\u001b[1;32m      <a href='vscode-notebook-cell:/Users/benjaminwynne/Pandas-Challenge/pandas-challenge/PyCitySchools/PyCitySchools.ipynb#ch0000016?line=4'>5</a>\u001b[0m tenthr \u001b[39m=\u001b[39m reading_scores_df\u001b[39m.\u001b[39mloc[reading_scores_df[\u001b[39m\"\u001b[39m\u001b[39m10th\u001b[39m\u001b[39m\"\u001b[39m] \u001b[39m>\u001b[39m\u001b[39m=\u001b[39m \u001b[39m70\u001b[39m, [\u001b[39m\"\u001b[39m\u001b[39mreading_score\u001b[39m\u001b[39m\"\u001b[39m]]\n",
      "File \u001b[0;32m~/opt/anaconda3/lib/python3.9/site-packages/pandas/core/groupby/groupby.py:904\u001b[0m, in \u001b[0;36mGroupBy.__getattr__\u001b[0;34m(self, attr)\u001b[0m\n\u001b[1;32m    901\u001b[0m \u001b[39mif\u001b[39;00m attr \u001b[39min\u001b[39;00m \u001b[39mself\u001b[39m\u001b[39m.\u001b[39mobj:\n\u001b[1;32m    902\u001b[0m     \u001b[39mreturn\u001b[39;00m \u001b[39mself\u001b[39m[attr]\n\u001b[0;32m--> 904\u001b[0m \u001b[39mraise\u001b[39;00m \u001b[39mAttributeError\u001b[39;00m(\n\u001b[1;32m    905\u001b[0m     \u001b[39mf\u001b[39m\u001b[39m\"\u001b[39m\u001b[39m'\u001b[39m\u001b[39m{\u001b[39;00m\u001b[39mtype\u001b[39m(\u001b[39mself\u001b[39m)\u001b[39m.\u001b[39m\u001b[39m__name__\u001b[39m\u001b[39m}\u001b[39;00m\u001b[39m'\u001b[39m\u001b[39m object has no attribute \u001b[39m\u001b[39m'\u001b[39m\u001b[39m{\u001b[39;00mattr\u001b[39m}\u001b[39;00m\u001b[39m'\u001b[39m\u001b[39m\"\u001b[39m\n\u001b[1;32m    906\u001b[0m )\n",
      "\u001b[0;31mAttributeError\u001b[0m: 'DataFrameGroupBy' object has no attribute 'loc'"
     ]
    }
   ],
   "source": [
    "reading_scores = total_school_df.groupby([\"school_name\", \"grade\", \"reading_score\"])\n",
    "\n",
    "ninethr = reading_scores.loc[reading_scores[\"9th\"] >= 70, [\"reading_score\"]]\n",
    "ninethr\n",
    "tenthr = reading_scores.loc[reading_scores[\"10th\"] >= 70, [\"reading_score\"]]\n",
    "tenthr\n",
    "eleventhr = reading_scores.loc[reading_scores[\"11th\"] >= 70, [\"reading_score\"]]\n",
    "eleventhr\n",
    "twelfthr = reading_scores.loc[reading_scores[\"9th\"] >= 70, [\"reading_score\"]]\n",
    "twelfthr \n"
   ]
  },
  {
   "cell_type": "code",
   "execution_count": null,
   "metadata": {},
   "outputs": [],
   "source": []
  },
  {
   "cell_type": "code",
   "execution_count": null,
   "metadata": {},
   "outputs": [],
   "source": []
  }
 ],
 "metadata": {
  "kernelspec": {
   "display_name": "Python 3.9.12 ('base')",
   "language": "python",
   "name": "python3"
  },
  "language_info": {
   "codemirror_mode": {
    "name": "ipython",
    "version": 3
   },
   "file_extension": ".py",
   "mimetype": "text/x-python",
   "name": "python",
   "nbconvert_exporter": "python",
   "pygments_lexer": "ipython3",
   "version": "3.9.12"
  },
  "orig_nbformat": 4,
  "vscode": {
   "interpreter": {
    "hash": "57eaf34808bd0ce5b93ffb53549492e656fff728a7c40478c90cbbf9a8cdb9d1"
   }
  }
 },
 "nbformat": 4,
 "nbformat_minor": 2
}
