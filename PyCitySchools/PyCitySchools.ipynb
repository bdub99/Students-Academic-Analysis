{
 "cells": [
  {
   "cell_type": "code",
   "execution_count": 3,
   "metadata": {},
   "outputs": [],
   "source": [
    "import pandas as pd"
   ]
  },
  {
   "cell_type": "code",
   "execution_count": 5,
   "metadata": {},
   "outputs": [],
   "source": [
    "schools_complete = \"Resources/schools_complete.csv\"\n",
    "students_complete = \"Resources/students_complete.csv\"\n",
    "\n",
    "schools_df = pd.read_csv(schools_complete)\n",
    "students_df = pd.read_csv(students_complete)\n",
    "\n",
    "total_school_df = pd.merge(schools_df, students_df, how=\"left\", on=[\"school_name\", \"school_name\"])\n",
    "\n"
   ]
  },
  {
   "cell_type": "code",
   "execution_count": null,
   "metadata": {},
   "outputs": [],
   "source": [
    "# District Summary"
   ]
  },
  {
   "cell_type": "code",
   "execution_count": 36,
   "metadata": {},
   "outputs": [
    {
     "data": {
      "text/plain": [
       "0.749808526933878"
      ]
     },
     "execution_count": 36,
     "metadata": {},
     "output_type": "execute_result"
    }
   ],
   "source": [
    "total_schools = total_school_df[\"school_name\"].unique().sum()\n",
    "total_schools\n",
    "total_students = total_school_df[\"Student ID\"].count()\n",
    "total_students\n",
    "total_budget = total_school_df[\"budget\"].unique().sum()\n",
    "total_budget\n",
    "average_math = total_school_df[\"math_score\"].mean()\n",
    "average_math\n",
    "average_reading = total_school_df[\"reading_score\"].mean()\n",
    "average_reading\n",
    "passing_math = total_school_df[(total_school_df[\"math_score\"] >= 70)]\n",
    "passing_math\n",
    "len(passing_math)/(total_students)"
   ]
  }
 ],
 "metadata": {
  "kernelspec": {
   "display_name": "Python 3.9.12 ('base')",
   "language": "python",
   "name": "python3"
  },
  "language_info": {
   "codemirror_mode": {
    "name": "ipython",
    "version": 3
   },
   "file_extension": ".py",
   "mimetype": "text/x-python",
   "name": "python",
   "nbconvert_exporter": "python",
   "pygments_lexer": "ipython3",
   "version": "3.9.12"
  },
  "orig_nbformat": 4,
  "vscode": {
   "interpreter": {
    "hash": "57eaf34808bd0ce5b93ffb53549492e656fff728a7c40478c90cbbf9a8cdb9d1"
   }
  }
 },
 "nbformat": 4,
 "nbformat_minor": 2
}
