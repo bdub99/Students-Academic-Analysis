{
 "cells": [
  {
   "cell_type": "code",
   "execution_count": 2,
   "metadata": {},
   "outputs": [],
   "source": [
    "import pandas as pd"
   ]
  },
  {
   "cell_type": "code",
   "execution_count": 3,
   "metadata": {},
   "outputs": [],
   "source": [
    "schools_complete = \"Resources/schools_complete.csv\"\n",
    "students_complete = \"Resources/students_complete.csv\"\n",
    "\n",
    "schools_df = pd.read_csv(schools_complete)\n",
    "students_df = pd.read_csv(students_complete)\n",
    "\n",
    "total_school_df = pd.merge(schools_df, students_df, how=\"left\", on=[\"school_name\", \"school_name\"])\n",
    "\n"
   ]
  },
  {
   "cell_type": "code",
   "execution_count": null,
   "metadata": {},
   "outputs": [],
   "source": [
    "# District Summary"
   ]
  },
  {
   "cell_type": "code",
   "execution_count": 7,
   "metadata": {},
   "outputs": [
    {
     "data": {
      "text/html": [
       "<div>\n",
       "<style scoped>\n",
       "    .dataframe tbody tr th:only-of-type {\n",
       "        vertical-align: middle;\n",
       "    }\n",
       "\n",
       "    .dataframe tbody tr th {\n",
       "        vertical-align: top;\n",
       "    }\n",
       "\n",
       "    .dataframe thead th {\n",
       "        text-align: right;\n",
       "    }\n",
       "</style>\n",
       "<table border=\"1\" class=\"dataframe\">\n",
       "  <thead>\n",
       "    <tr style=\"text-align: right;\">\n",
       "      <th></th>\n",
       "      <th>Total Schools</th>\n",
       "      <th>Total Students</th>\n",
       "      <th>Total Budget</th>\n",
       "      <th>Average Math Score</th>\n",
       "      <th>Average Reading Score</th>\n",
       "      <th>% Passing Math</th>\n",
       "      <th>% Passing Reading</th>\n",
       "      <th>% Overall Passing</th>\n",
       "    </tr>\n",
       "  </thead>\n",
       "  <tbody>\n",
       "    <tr>\n",
       "      <th>0</th>\n",
       "      <td>15</td>\n",
       "      <td>39170</td>\n",
       "      <td>24649428</td>\n",
       "      <td>78.985371</td>\n",
       "      <td>81.87784</td>\n",
       "      <td>74.980853</td>\n",
       "      <td>85.805463</td>\n",
       "      <td>89.387286</td>\n",
       "    </tr>\n",
       "  </tbody>\n",
       "</table>\n",
       "</div>"
      ],
      "text/plain": [
       "   Total Schools  Total Students  Total Budget  Average Math Score  \\\n",
       "0             15           39170      24649428           78.985371   \n",
       "\n",
       "   Average Reading Score  % Passing Math  % Passing Reading  % Overall Passing  \n",
       "0               81.87784       74.980853          85.805463          89.387286  "
      ]
     },
     "execution_count": 7,
     "metadata": {},
     "output_type": "execute_result"
    }
   ],
   "source": [
    "total_schools = len(total_school_df[\"school_name\"].unique())\n",
    "total_schools\n",
    "total_students = len(total_school_df[\"Student ID\"].unique())\n",
    "total_students\n",
    "total_budget = total_school_df[\"budget\"].unique().sum()\n",
    "total_budget\n",
    "average_math = total_school_df[\"math_score\"].mean()\n",
    "average_math\n",
    "average_reading = total_school_df[\"reading_score\"].mean()\n",
    "average_reading\n",
    "passing_math = total_school_df[(total_school_df[\"math_score\"] >= 70)]\n",
    "passing_math\n",
    "Pm = len(passing_math)/(total_students) * 100\n",
    "passing_reading = total_school_df[(total_school_df[\"reading_score\"] >= 70)]\n",
    "passing_reading\n",
    "Pr = len(passing_reading)/(total_students) * 100\n",
    "overall_passing = total_school_df[(total_school_df[\"math_score\"]+total_school_df[\"reading_score\"] >= 140)]\n",
    "overall_passing\n",
    "Op = len(overall_passing)/(total_students) * 100\n",
    "district_summary_df = pd.DataFrame({\"Total Schools\": [total_schools], \"Total Students\": [total_students], \"Total Budget\": [total_budget], \n",
    "                                        \"Average Math Score\": [average_math], \"Average Reading Score\": [average_reading], \"% Passing Math\": [Pm],\n",
    "                                                \"% Passing Reading\": [Pr],\"% Overall Passing\": [Op]})\n",
    "district_summary_df"
   ]
  },
  {
   "cell_type": "code",
   "execution_count": null,
   "metadata": {},
   "outputs": [],
   "source": [
    "# School Summary"
   ]
  },
  {
   "cell_type": "code",
   "execution_count": 52,
   "metadata": {},
   "outputs": [
    {
     "data": {
      "text/plain": [
       "school_name            type      budget \n",
       "Bailey High School     District  3124928    0.003014\n",
       "Cabrera High School    Charter   1081356    0.008073\n",
       "Figueroa High School   District  1884411    0.005086\n",
       "Ford High School       District  1763916    0.005476\n",
       "Griffin High School    Charter   917500     0.010218\n",
       "Hernandez High School  District  3022020    0.003236\n",
       "Holden High School     Charter   248087     0.035129\n",
       "Huang High School      District  1910635    0.005142\n",
       "Johnson High School    District  3094650    0.003151\n",
       "Pena High School       Charter   585858     0.015593\n",
       "Rodriguez High School  District  2547363    0.003751\n",
       "Shelton High School    Charter   1056600    0.008518\n",
       "Thomas High School     Charter   1043130    0.009174\n",
       "Wilson High School     Charter   1319574    0.006570\n",
       "Wright High School     Charter   1049400    0.008333\n",
       "Name: budget, dtype: float64"
      ]
     },
     "execution_count": 52,
     "metadata": {},
     "output_type": "execute_result"
    }
   ],
   "source": [
    "school_name = total_school_df.groupby([\"school_name\", \"type\"])\n",
    "\n",
    "school_students = school_name[\"size\"].value_counts()\n",
    "school_students\n",
    "school_budget = school_name[\"budget\"].value_counts()\n",
    "school_budget\n",
    "psb = len(school_students)/(school_budget)\n",
    "psb\n",
    "\n",
    "\n",
    "\n",
    "\n"
   ]
  },
  {
   "cell_type": "code",
   "execution_count": null,
   "metadata": {},
   "outputs": [],
   "source": []
  }
 ],
 "metadata": {
  "kernelspec": {
   "display_name": "Python 3.9.12 ('base')",
   "language": "python",
   "name": "python3"
  },
  "language_info": {
   "codemirror_mode": {
    "name": "ipython",
    "version": 3
   },
   "file_extension": ".py",
   "mimetype": "text/x-python",
   "name": "python",
   "nbconvert_exporter": "python",
   "pygments_lexer": "ipython3",
   "version": "3.9.12"
  },
  "orig_nbformat": 4,
  "vscode": {
   "interpreter": {
    "hash": "57eaf34808bd0ce5b93ffb53549492e656fff728a7c40478c90cbbf9a8cdb9d1"
   }
  }
 },
 "nbformat": 4,
 "nbformat_minor": 2
}
